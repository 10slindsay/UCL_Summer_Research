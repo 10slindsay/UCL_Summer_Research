{
 "cells": [
  {
   "cell_type": "code",
   "execution_count": 16,
   "metadata": {},
   "outputs": [
    {
     "ename": "SyntaxError",
     "evalue": "unexpected EOF while parsing (pyparsing.py, line 1811)",
     "output_type": "error",
     "traceback": [
      "Traceback \u001b[0;36m(most recent call last)\u001b[0m:\n",
      "  File \u001b[1;32m\"/share/apps/anaconda/3-2019.03/lib/python3.7/site-packages/IPython/core/interactiveshell.py\"\u001b[0m, line \u001b[1;32m3296\u001b[0m, in \u001b[1;35mrun_code\u001b[0m\n    exec(code_obj, self.user_global_ns, self.user_ns)\n",
      "  File \u001b[1;32m\"<ipython-input-16-a0d2faabd9e9>\"\u001b[0m, line \u001b[1;32m1\u001b[0m, in \u001b[1;35m<module>\u001b[0m\n    import matplotlib.pyplot as plt\n",
      "  File \u001b[1;32m\"/share/apps/anaconda/3-2019.03/lib/python3.7/site-packages/matplotlib/__init__.py\"\u001b[0m, line \u001b[1;32m141\u001b[0m, in \u001b[1;35m<module>\u001b[0m\n    from . import cbook, rcsetup\n",
      "  File \u001b[1;32m\"/share/apps/anaconda/3-2019.03/lib/python3.7/site-packages/matplotlib/rcsetup.py\"\u001b[0m, line \u001b[1;32m25\u001b[0m, in \u001b[1;35m<module>\u001b[0m\n    from matplotlib.fontconfig_pattern import parse_fontconfig_pattern\n",
      "\u001b[0;36m  File \u001b[0;32m\"/share/apps/anaconda/3-2019.03/lib/python3.7/site-packages/matplotlib/fontconfig_pattern.py\"\u001b[0;36m, line \u001b[0;32m19\u001b[0;36m, in \u001b[0;35m<module>\u001b[0;36m\u001b[0m\n\u001b[0;31m    from pyparsing import (Literal, ZeroOrMore, Optional, Regex, StringEnd,\u001b[0m\n",
      "\u001b[0;36m  File \u001b[0;32m\"/home/visitor1/.local/lib/python3.7/site-packages/pyparsing.py\"\u001b[0;36m, line \u001b[0;32m1811\u001b[0m\n\u001b[0;31m    \u001b[0m\n\u001b[0m    ^\u001b[0m\n\u001b[0;31mSyntaxError\u001b[0m\u001b[0;31m:\u001b[0m unexpected EOF while parsing\n"
     ]
    }
   ],
   "source": [
    "import matplotlib.pyplot as plt"
   ]
  },
  {
   "cell_type": "code",
   "execution_count": 12,
   "metadata": {
    "scrolled": true
   },
   "outputs": [
    {
     "ename": "SyntaxError",
     "evalue": "unexpected EOF while parsing (pyparsing.py, line 1811)",
     "output_type": "error",
     "traceback": [
      "Traceback \u001b[0;36m(most recent call last)\u001b[0m:\n",
      "  File \u001b[1;32m\"/share/apps/anaconda/3-2019.03/lib/python3.7/site-packages/IPython/core/interactiveshell.py\"\u001b[0m, line \u001b[1;32m3296\u001b[0m, in \u001b[1;35mrun_code\u001b[0m\n    exec(code_obj, self.user_global_ns, self.user_ns)\n",
      "  File \u001b[1;32m\"<ipython-input-12-195dcf76d6f7>\"\u001b[0m, line \u001b[1;32m2\u001b[0m, in \u001b[1;35m<module>\u001b[0m\n    import healpy as hp\n",
      "  File \u001b[1;32m\"/home/visitor1/.local/lib/python3.7/site-packages/healpy/__init__.py\"\u001b[0m, line \u001b[1;32m94\u001b[0m, in \u001b[1;35m<module>\u001b[0m\n    from .visufunc import (\n",
      "  File \u001b[1;32m\"/home/visitor1/.local/lib/python3.7/site-packages/healpy/visufunc.py\"\u001b[0m, line \u001b[1;32m64\u001b[0m, in \u001b[1;35m<module>\u001b[0m\n    from . import projaxes as PA\n",
      "  File \u001b[1;32m\"/home/visitor1/.local/lib/python3.7/site-packages/healpy/projaxes.py\"\u001b[0m, line \u001b[1;32m26\u001b[0m, in \u001b[1;35m<module>\u001b[0m\n    import matplotlib\n",
      "  File \u001b[1;32m\"/share/apps/anaconda/3-2019.03/lib/python3.7/site-packages/matplotlib/__init__.py\"\u001b[0m, line \u001b[1;32m141\u001b[0m, in \u001b[1;35m<module>\u001b[0m\n    from . import cbook, rcsetup\n",
      "  File \u001b[1;32m\"/share/apps/anaconda/3-2019.03/lib/python3.7/site-packages/matplotlib/rcsetup.py\"\u001b[0m, line \u001b[1;32m25\u001b[0m, in \u001b[1;35m<module>\u001b[0m\n    from matplotlib.fontconfig_pattern import parse_fontconfig_pattern\n",
      "\u001b[0;36m  File \u001b[0;32m\"/share/apps/anaconda/3-2019.03/lib/python3.7/site-packages/matplotlib/fontconfig_pattern.py\"\u001b[0;36m, line \u001b[0;32m19\u001b[0;36m, in \u001b[0;35m<module>\u001b[0;36m\u001b[0m\n\u001b[0;31m    from pyparsing import (Literal, ZeroOrMore, Optional, Regex, StringEnd,\u001b[0m\n",
      "\u001b[0;36m  File \u001b[0;32m\"/home/visitor1/.local/lib/python3.7/site-packages/pyparsing.py\"\u001b[0;36m, line \u001b[0;32m1811\u001b[0m\n\u001b[0;31m    \u001b[0m\n\u001b[0m    ^\u001b[0m\n\u001b[0;31mSyntaxError\u001b[0m\u001b[0;31m:\u001b[0m unexpected EOF while parsing\n"
     ]
    }
   ],
   "source": [
    "import numpy as np\n",
    "import healpy as hp"
   ]
  },
  {
   "cell_type": "code",
   "execution_count": 6,
   "metadata": {},
   "outputs": [],
   "source": [
    "data = np.arange(10)\n",
    "theta = np.radians(np.arange(10, 110, 10))\n",
    "phi = np.radians(np.linspace(0, 100, 10))"
   ]
  },
  {
   "cell_type": "code",
   "execution_count": 7,
   "metadata": {},
   "outputs": [
    {
     "name": "stdout",
     "output_type": "stream",
     "text": [
      "[0 1 2 3 4 5 6 7 8 9]\n",
      "[0.17453293 0.34906585 0.52359878 0.6981317  0.87266463 1.04719755\n",
      " 1.22173048 1.3962634  1.57079633 1.74532925]\n",
      "[0.         0.19392547 0.38785094 0.58177642 0.77570189 0.96962736\n",
      " 1.16355283 1.35747831 1.55140378 1.74532925]\n"
     ]
    }
   ],
   "source": [
    "print(data)\n",
    "print(theta)\n",
    "print(phi)"
   ]
  },
  {
   "cell_type": "code",
   "execution_count": 8,
   "metadata": {},
   "outputs": [
    {
     "ename": "NameError",
     "evalue": "name 'hp' is not defined",
     "output_type": "error",
     "traceback": [
      "\u001b[0;31m---------------------------------------------------------------------------\u001b[0m",
      "\u001b[0;31mNameError\u001b[0m                                 Traceback (most recent call last)",
      "\u001b[0;32m<ipython-input-8-d0646844da17>\u001b[0m in \u001b[0;36m<module>\u001b[0;34m\u001b[0m\n\u001b[1;32m      1\u001b[0m \u001b[0mnside\u001b[0m \u001b[0;34m=\u001b[0m \u001b[0;36m8\u001b[0m\u001b[0;34m\u001b[0m\u001b[0;34m\u001b[0m\u001b[0m\n\u001b[0;32m----> 2\u001b[0;31m \u001b[0mprint\u001b[0m\u001b[0;34m(\u001b[0m\u001b[0mnp\u001b[0m\u001b[0;34m.\u001b[0m\u001b[0mdegrees\u001b[0m\u001b[0;34m(\u001b[0m\u001b[0mhp\u001b[0m\u001b[0;34m.\u001b[0m\u001b[0mnside2resol\u001b[0m\u001b[0;34m(\u001b[0m\u001b[0mnside\u001b[0m\u001b[0;34m)\u001b[0m\u001b[0;34m)\u001b[0m\u001b[0;34m)\u001b[0m\u001b[0;34m\u001b[0m\u001b[0;34m\u001b[0m\u001b[0m\n\u001b[0m",
      "\u001b[0;31mNameError\u001b[0m: name 'hp' is not defined"
     ]
    }
   ],
   "source": [
    "nside = 8\n",
    "print(np.degrees(hp.nside2resol(nside)))"
   ]
  },
  {
   "cell_type": "code",
   "execution_count": null,
   "metadata": {},
   "outputs": [],
   "source": [
    "pixel_indices = hp.ang2pix(nside, theta, phi)\n",
    "print(pixel_indices)"
   ]
  },
  {
   "cell_type": "code",
   "execution_count": null,
   "metadata": {},
   "outputs": [],
   "source": [
    "m = np.zeros(hp.nside2npix(nside))\n",
    "m[pixel_indices] = data"
   ]
  },
  {
   "cell_type": "code",
   "execution_count": null,
   "metadata": {},
   "outputs": [],
   "source": [
    "m = np.set_array()\n",
    "hp.mollview(m)\n",
    "hp.graticule()"
   ]
  },
  {
   "cell_type": "code",
   "execution_count": null,
   "metadata": {},
   "outputs": [],
   "source": [
    "hp.graticule()"
   ]
  },
  {
   "cell_type": "code",
   "execution_count": null,
   "metadata": {},
   "outputs": [],
   "source": []
  },
  {
   "cell_type": "code",
   "execution_count": null,
   "metadata": {},
   "outputs": [],
   "source": []
  }
 ],
 "metadata": {
  "kernelspec": {
   "display_name": "Python 3",
   "language": "python",
   "name": "python3"
  },
  "language_info": {
   "codemirror_mode": {
    "name": "ipython",
    "version": 3
   },
   "file_extension": ".py",
   "mimetype": "text/x-python",
   "name": "python",
   "nbconvert_exporter": "python",
   "pygments_lexer": "ipython3",
   "version": "3.7.3"
  }
 },
 "nbformat": 4,
 "nbformat_minor": 2
}
